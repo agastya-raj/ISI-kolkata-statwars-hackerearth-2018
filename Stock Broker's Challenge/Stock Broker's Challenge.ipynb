{
 "cells": [
  {
   "cell_type": "code",
   "execution_count": 61,
   "metadata": {
    "collapsed": true
   },
   "outputs": [],
   "source": [
    "import numpy as np\n",
    "import pandas as pd\n",
    "import scipy as sp\n",
    "import sklearn\n",
    "import tensorflow as tf\n",
    "import keras\n",
    "import matplotlib.pyplot as plt\n",
    "import seaborn as sns\n",
    "import math\n",
    "import datetime\n",
    "import os\n",
    "os.chdir(\"/home/agastya/data\")\n",
    "%matplotlib inline"
   ]
  },
  {
   "cell_type": "code",
   "execution_count": 96,
   "metadata": {
    "collapsed": true
   },
   "outputs": [],
   "source": [
    "train = pd.read_csv('/home/agastya/data/DataSets_Q1/TrainData.csv')\n",
    "test = pd.read_csv('/home/agastya/data/DataSets_Q1/TestData.csv')"
   ]
  },
  {
   "cell_type": "code",
   "execution_count": 97,
   "metadata": {},
   "outputs": [
    {
     "data": {
      "text/plain": [
       "(82748, 9)"
      ]
     },
     "execution_count": 97,
     "metadata": {},
     "output_type": "execute_result"
    }
   ],
   "source": [
    "test.shape"
   ]
  },
  {
   "cell_type": "code",
   "execution_count": null,
   "metadata": {},
   "outputs": [
    {
     "name": "stderr",
     "output_type": "stream",
     "text": [
      "/home/agastya/anaconda3/lib/python3.6/site-packages/ipykernel_launcher.py:4: SettingWithCopyWarning: \n",
      "A value is trying to be set on a copy of a slice from a DataFrame.\n",
      "Try using .loc[row_indexer,col_indexer] = value instead\n",
      "\n",
      "See the caveats in the documentation: http://pandas.pydata.org/pandas-docs/stable/indexing.html#indexing-view-versus-copy\n",
      "  after removing the cwd from sys.path.\n"
     ]
    }
   ],
   "source": [
    "from statsmodels.tsa.arima_model import ARIMA\n",
    "from pandas import Series\n",
    "X = train[['TimeStamp', 'nLastTradedPrice']]\n",
    "X['TimeStamp'] = pd.to_datetime(X['TimeStamp'])\n",
    "X = X[['TimeStamp', 'nLastTradedPrice']]\n",
    "X.to_csv('data_stock.csv', index=False)\n",
    "X = Series.from_csv('data_stock.csv', header=0)\n",
    "X = X.astype('float32')\n",
    "model = ARIMA(X, order=(50, 1, 0))\n",
    "model_fit = model.fit(disp=False)\n",
    "forecast = model_fit.forecast(steps = 82748)"
   ]
  },
  {
   "cell_type": "code",
   "execution_count": null,
   "metadata": {
    "collapsed": true
   },
   "outputs": [],
   "source": [
    "test1 = pd.DataFrame({'nLastTradedPrice': list(forecast[0])})\n",
    "test1.to_csv('submission2.csv', index = False)"
   ]
  },
  {
   "cell_type": "code",
   "execution_count": 7,
   "metadata": {},
   "outputs": [
    {
     "data": {
      "text/plain": [
       "XYZ Corporation    16599\n",
       "Name: sSymbol, dtype: int64"
      ]
     },
     "execution_count": 7,
     "metadata": {},
     "output_type": "execute_result"
    }
   ],
   "source": [
    "train['sSymbol'].value_counts()\n",
    "#sSymbol variable is redundant"
   ]
  },
  {
   "cell_type": "code",
   "execution_count": 5,
   "metadata": {
    "collapsed": true
   },
   "outputs": [
    {
     "data": {
      "image/png": "[encoded data removed]",
      "text/plain": [
       "<matplotlib.figure.Figure at 0x7f158bcf4668>"
      ]
     },
     "metadata": {},
     "output_type": "display_data"
    },
    {
     "data": {
      "image/png": "[encoded data removed]",
      "text/plain": [
       "<matplotlib.figure.Figure at 0x7f158bd27748>"
      ]
     },
     "metadata": {},
     "output_type": "display_data"
    },
    {
     "data": {
      "image/png": "[encoded data removed]",
      "text/plain": [
       "<matplotlib.figure.Figure at 0x7f1583e4a128>"
      ]
     },
     "metadata": {},
     "output_type": "display_data"
    }
   ],
   "source": [
    "plt.plot(pd.to_datetime(train['TimeStamp'].iloc[16000:]), train['nBestSellOrderPrice'].iloc[16000:])\n",
    "plt.show()\n",
    "plt.plot(pd.to_datetime(train['TimeStamp']), train['nBestBuyOrderPrice'])\n",
    "plt.show()\n",
    "plt.plot(pd.to_datetime(train['TimeStamp'].iloc[14000:15000]), train['nLastTradedPrice'].iloc[14000:15000])\n",
    "plt.show()"
   ]
  },
  {
   "cell_type": "code",
   "execution_count": 8,
   "metadata": {
    "collapsed": true
   },
   "outputs": [],
   "source": [
    "train1 = train.drop(['nSerialNumber', 'sSymbol', 'TimeStamp'], axis=1)\n",
    "train1 = train1.values"
   ]
  },
  {
   "cell_type": "code",
   "execution_count": 9,
   "metadata": {
    "collapsed": true
   },
   "outputs": [],
   "source": [
    "##Simple MLP\n",
    "##Train and test split\n",
    "n = train1.shape[0]\n",
    "p = train1.shape[1]\n",
    "#train_start = 0\n",
    "#train_end = int(np.floor(0.8*n))\n",
    "#test_start = train_end + 1\n",
    "#test_end = n\n",
    "#data_train = train1[np.arange(train_start, train_end), :]\n",
    "#data_test = train1[np.arange(test_start, test_end), :]\n",
    "data_train = train1\n",
    "data_test = train1"
   ]
  },
  {
   "cell_type": "code",
   "execution_count": 10,
   "metadata": {
    "collapsed": true
   },
   "outputs": [],
   "source": [
    "# Build X and y\n",
    "tf.reset_default_graph()\n",
    "X_train = data_train[:, [0,1,2,3,5]]\n",
    "y_train = data_train[:, 4]\n",
    "X_test = data_test[:, [0,1,2,3,5]]\n",
    "y_test = data_test[:, 4]"
   ]
  },
  {
   "cell_type": "code",
   "execution_count": 11,
   "metadata": {
    "collapsed": true
   },
   "outputs": [],
   "source": [
    "from sklearn.preprocessing import MinMaxScaler\n",
    "scaler_train = MinMaxScaler().fit(X_train)\n",
    "X_train = scaler_train.transform(X_train)\n",
    "X_test = scaler_train.transform(X_test)"
   ]
  },
  {
   "cell_type": "code",
   "execution_count": 12,
   "metadata": {
    "collapsed": true
   },
   "outputs": [],
   "source": [
    "#Defining placeholders\n",
    "X = tf.placeholder(tf.float32, shape=[None, 5])\n",
    "Y = tf.placeholder(tf.float32, shape=[None, 1])"
   ]
  },
  {
   "cell_type": "code",
   "execution_count": 13,
   "metadata": {
    "collapsed": true
   },
   "outputs": [],
   "source": [
    "#Model Architecture\n",
    "#Layer 1\n",
    "W1 = tf.get_variable(dtype=tf.float32, name='W1', shape=[5, 100],\n",
    "                     initializer=tf.contrib.layers.xavier_initializer())\n",
    "b1 = tf.get_variable(dtype=tf.float32, name='b1', shape=[1, 100],\n",
    "                     initializer=tf.zeros_initializer())\n",
    "W2 = tf.get_variable(dtype=tf.float32, name='W2', shape=[100, 60],\n",
    "                     initializer=tf.contrib.layers.xavier_initializer())\n",
    "b2 = tf.get_variable(dtype=tf.float32, name='b2', shape=[1, 60],\n",
    "                     initializer=tf.zeros_initializer())\n",
    "W3 = tf.get_variable(dtype=tf.float32, name='W3', shape=[60, 30],\n",
    "                     initializer=tf.contrib.layers.xavier_initializer())\n",
    "b3 = tf.get_variable(dtype=tf.float32, name='b3', shape=[1, 30],\n",
    "                     initializer=tf.zeros_initializer())\n",
    "W4 = tf.get_variable(dtype=tf.float32, name='W4', shape=[30, 1],\n",
    "                     initializer=tf.contrib.layers.xavier_initializer())\n",
    "b4 = tf.get_variable(dtype=tf.float32, name='b4', shape=[1, 1],\n",
    "                     initializer=tf.zeros_initializer())"
   ]
  },
  {
   "cell_type": "code",
   "execution_count": 14,
   "metadata": {
    "collapsed": true
   },
   "outputs": [],
   "source": [
    "Z1 = tf.add(tf.matmul(X, W1), b1, name='Z1')\n",
    "A1 = tf.nn.relu(Z1, name = 'A1')\n",
    "Z2 = tf.add(tf.matmul(A1, W2), b2, name='Z2')\n",
    "A2 = tf.nn.relu(Z2, name = 'A2')\n",
    "Z3 = tf.add(tf.matmul(A2, W3), b3, name='Z3')\n",
    "A3 = tf.nn.relu(Z3, name = 'A3')\n",
    "Z4 = tf.add(tf.matmul(A3, W4), b4, name='Z4')"
   ]
  },
  {
   "cell_type": "code",
   "execution_count": 15,
   "metadata": {
    "collapsed": true
   },
   "outputs": [],
   "source": [
    "logits = tf.transpose(Z4)\n",
    "cost = tf.reduce_mean(tf.squared_difference(Z4, Y))\n",
    "optimizer = tf.train.AdamOptimizer(learning_rate=0.00008).minimize(cost)\n",
    "init = tf.global_variables_initializer()"
   ]
  },
  {
   "cell_type": "code",
   "execution_count": 16,
   "metadata": {},
   "outputs": [
    {
     "data": {
      "text/plain": [
       "(82748, 5)"
      ]
     },
     "execution_count": 16,
     "metadata": {},
     "output_type": "execute_result"
    }
   ],
   "source": [
    "test = test.drop(['nSerialNumber', 'TimeStamp', 'sSymbol', 'nLastTradedPrice'], axis=1)\n",
    "test1 = scaler_train.transform(test)\n",
    "test1.shape"
   ]
  },
  {
   "cell_type": "code",
   "execution_count": 17,
   "metadata": {},
   "outputs": [
    {
     "data": {
      "image/png": "[encoded data removed]",
      "text/plain": [
       "<matplotlib.figure.Figure at 0x7fede459f5f8>"
      ]
     },
     "metadata": {},
     "output_type": "display_data"
    },
    {
     "data": {
      "image/png": "[encoded data removed]",
      "text/plain": [
       "<matplotlib.figure.Figure at 0x7feddc072b00>"
      ]
     },
     "metadata": {},
     "output_type": "display_data"
    }
   ],
   "source": [
    "# Make Session\n",
    "tf.set_random_seed(42)\n",
    "np.random.seed(42)\n",
    "net = tf.Session()\n",
    "# Run initializer\n",
    "net.run(tf.global_variables_initializer())\n",
    "\n",
    "# Setup interactive plot\n",
    "'''plt.ion()\n",
    "fig = plt.figure()\n",
    "ax1 = fig.add_subplot(111)\n",
    "line1, = ax1.plot(y_test)\n",
    "line2, = ax1.plot(y_test*0.5)\n",
    "plt.show()'''\n",
    "\n",
    "# Number of epochs and batch size\n",
    "epochs = 180\n",
    "batch_size = 256\n",
    "training_costs = []\n",
    "test_costs = []\n",
    "for e in range(epochs):\n",
    "\n",
    "    # Shuffle training data\n",
    "    shuffle_indices = np.random.permutation(np.arange(len(y_train)))\n",
    "    X_train = X_train[shuffle_indices]\n",
    "    y_train = y_train[shuffle_indices]\n",
    "\n",
    "    # Minibatch training\n",
    "    for i in range(0, len(y_train) // batch_size):\n",
    "        start = i * batch_size\n",
    "        ytrain = y_train.reshape(-1, 1)\n",
    "        batch_x = X_train[start:start + batch_size]\n",
    "        batch_y = y_train[start:start + batch_size]\n",
    "        batch_y = batch_y.reshape(-1, 1)\n",
    "        # Run optimizer with batch\n",
    "        _, training_cost = net.run([optimizer, cost], feed_dict={X: batch_x, Y: batch_y})\n",
    "        training_costs.append(training_cost)\n",
    "        # Show progress\n",
    "    '''pred = net.run(logits, feed_dict={X: X_test})\n",
    "    plt.ion()\n",
    "    fig = plt.figure()\n",
    "    ax1 = fig.add_subplot(111)\n",
    "    line1, = ax1.plot(y_test)\n",
    "    line2, = ax1.plot(pred.reshape(-1,1))\n",
    "    plt.title('Epoch ' + str(e) + ', Batch ' + str(i))\n",
    "    plt.show()'''\n",
    "# Print final MSE after Training\n",
    "    y_test = y_test.reshape(-1,1)\n",
    "    mse_test = net.run(cost, feed_dict={X: X_test, Y: y_test})\n",
    "    test_costs.append(mse_test)\n",
    "plt.plot(training_costs)\n",
    "plt.show()\n",
    "pred_final = net.run(Z4, feed_dict={X: test1})\n",
    "plt.plot(test_costs)\n",
    "plt.show()"
   ]
  },
  {
   "cell_type": "code",
   "execution_count": 19,
   "metadata": {
    "collapsed": true
   },
   "outputs": [
    {
     "data": {
      "text/plain": [
       "[1431964.8,\n",
       " 1431470.1,\n",
       " 1430721.4,\n",
       " 1429534.1,\n",
       " 1427627.0,\n",
       " 1424353.4,\n",
       " 1419153.2,\n",
       " 1411326.8,\n",
       " 1400090.9,\n",
       " 1384608.0,\n",
       " 1364199.6,\n",
       " 1337903.0,\n",
       " 1305138.1,\n",
       " 1265585.4,\n",
       " 1219037.2,\n",
       " 1165384.8,\n",
       " 1104807.2,\n",
       " 1037643.9,\n",
       " 964634.31,\n",
       " 886717.0,\n",
       " 805132.38,\n",
       " 721198.06,\n",
       " 636577.88,\n",
       " 553024.38,\n",
       " 472265.97,\n",
       " 395913.84,\n",
       " 325464.0,\n",
       " 262437.91,\n",
       " 207739.78,\n",
       " 161822.84,\n",
       " 124651.83,\n",
       " 95699.25,\n",
       " 74025.898,\n",
       " 58480.957,\n",
       " 47856.551,\n",
       " 40800.785,\n",
       " 36321.754,\n",
       " 33543.938,\n",
       " 31837.938,\n",
       " 30775.645,\n",
       " 30080.703,\n",
       " 29584.225,\n",
       " 29190.24,\n",
       " 28844.211,\n",
       " 28519.795,\n",
       " 28203.1,\n",
       " 27890.541,\n",
       " 27569.811,\n",
       " 27236.805,\n",
       " 26878.752,\n",
       " 26526.916,\n",
       " 26169.859,\n",
       " 25809.469,\n",
       " 25443.117,\n",
       " 25072.68,\n",
       " 24696.299,\n",
       " 24317.211,\n",
       " 23933.873,\n",
       " 23542.42,\n",
       " 23150.023,\n",
       " 22752.318,\n",
       " 22352.381,\n",
       " 21949.154,\n",
       " 21538.264,\n",
       " 21125.582,\n",
       " 20709.787,\n",
       " 20291.715,\n",
       " 19869.838,\n",
       " 19439.062,\n",
       " 19010.889,\n",
       " 18580.0,\n",
       " 18148.172,\n",
       " 17713.4,\n",
       " 17274.346,\n",
       " 16837.643,\n",
       " 16396.996,\n",
       " 15956.956,\n",
       " 15513.9,\n",
       " 15072.937,\n",
       " 14629.265,\n",
       " 14187.87,\n",
       " 13747.296,\n",
       " 13306.446,\n",
       " 12869.486,\n",
       " 12432.513,\n",
       " 11998.753,\n",
       " 11568.336,\n",
       " 11141.644,\n",
       " 10718.398,\n",
       " 10299.766,\n",
       " 9883.752,\n",
       " 9475.7168,\n",
       " 9070.5332,\n",
       " 8671.7051,\n",
       " 8279.2979,\n",
       " 7892.6797,\n",
       " 7512.29,\n",
       " 7143.3394,\n",
       " 6780.4771,\n",
       " 6423.7959,\n",
       " 6076.9922,\n",
       " 5737.8086,\n",
       " 5409.1509,\n",
       " 5087.7563,\n",
       " 4779.9214,\n",
       " 4480.0229,\n",
       " 4191.0464,\n",
       " 3913.0986,\n",
       " 3644.9475,\n",
       " 3387.6106,\n",
       " 3142.1235,\n",
       " 2906.4426,\n",
       " 2683.5254,\n",
       " 2471.6367,\n",
       " 2269.1812,\n",
       " 2077.9946,\n",
       " 1898.3488,\n",
       " 1729.8258,\n",
       " 1571.3546,\n",
       " 1424.3939,\n",
       " 1286.499,\n",
       " 1159.5343,\n",
       " 1040.7375,\n",
       " 932.25818,\n",
       " 832.44897,\n",
       " 741.14752,\n",
       " 658.29211,\n",
       " 583.24426,\n",
       " 515.8512,\n",
       " 455.13382,\n",
       " 400.17276,\n",
       " 350.87762,\n",
       " 306.85724,\n",
       " 267.99109,\n",
       " 234.30391,\n",
       " 204.853,\n",
       " 179.62364,\n",
       " 157.9402,\n",
       " 139.60298,\n",
       " 123.84306,\n",
       " 110.8888,\n",
       " 99.868599,\n",
       " 90.876663,\n",
       " 83.2239,\n",
       " 76.975838,\n",
       " 71.698952,\n",
       " 67.228432,\n",
       " 63.53162,\n",
       " 60.377033,\n",
       " 57.723949,\n",
       " 55.405594,\n",
       " 53.382622,\n",
       " 51.577053,\n",
       " 50.053032,\n",
       " 48.543335,\n",
       " 47.186634,\n",
       " 45.910046,\n",
       " 44.803509,\n",
       " 43.638981,\n",
       " 42.625137,\n",
       " 41.536091,\n",
       " 40.590889,\n",
       " 39.64764,\n",
       " 38.739578,\n",
       " 37.897408,\n",
       " 37.070934,\n",
       " 36.287682,\n",
       " 35.536343,\n",
       " 34.841881,\n",
       " 34.122078,\n",
       " 33.495293,\n",
       " 32.810802,\n",
       " 32.263687,\n",
       " 31.639627,\n",
       " 31.092426,\n",
       " 30.556261,\n",
       " 30.05818,\n",
       " 29.59384,\n",
       " 29.156706,\n",
       " 28.693676,\n",
       " 28.281969,\n",
       " 27.891184,\n",
       " 27.559172,\n",
       " 27.253029,\n",
       " 26.852804,\n",
       " 26.5807,\n",
       " 26.236319,\n",
       " 25.947641,\n",
       " 25.710739,\n",
       " 25.429739,\n",
       " 25.197899,\n",
       " 24.976198,\n",
       " 24.79158,\n",
       " 24.571655,\n",
       " 24.382841,\n",
       " 24.215691,\n",
       " 24.043251,\n",
       " 23.888346,\n",
       " 23.746984,\n",
       " 23.603779,\n",
       " 23.471218,\n",
       " 23.37771,\n",
       " 23.25024,\n",
       " 23.147476,\n",
       " 23.019171,\n",
       " 22.922911,\n",
       " 22.83742,\n",
       " 22.751234,\n",
       " 22.675388,\n",
       " 22.588411,\n",
       " 22.633226,\n",
       " 22.440649,\n",
       " 22.43243,\n",
       " 22.328924,\n",
       " 22.253273,\n",
       " 22.195488,\n",
       " 22.155968,\n",
       " 22.093641,\n",
       " 22.036074,\n",
       " 21.989147,\n",
       " 21.950678,\n",
       " 21.929203,\n",
       " 21.855259,\n",
       " 21.815727,\n",
       " 21.778749,\n",
       " 21.735743,\n",
       " 21.697317,\n",
       " 21.659302,\n",
       " 21.655804,\n",
       " 21.588009,\n",
       " 21.555534,\n",
       " 21.553333,\n",
       " 21.480089,\n",
       " 21.446306,\n",
       " 21.436605,\n",
       " 21.384903,\n",
       " 21.346189,\n",
       " 21.473259,\n",
       " 21.295872,\n",
       " 21.250065,\n",
       " 21.284096,\n",
       " 21.197306,\n",
       " 21.133818,\n",
       " 21.498211,\n",
       " 21.067846,\n",
       " 21.017069,\n",
       " 21.355463,\n",
       " 20.948143,\n",
       " 20.907465,\n",
       " 20.865299,\n",
       " 21.019451,\n",
       " 20.80014,\n",
       " 20.751091,\n",
       " 20.708477,\n",
       " 20.667385,\n",
       " 20.654345,\n",
       " 20.714808,\n",
       " 20.546593,\n",
       " 20.50337,\n",
       " 20.529903,\n",
       " 20.525089,\n",
       " 20.386244,\n",
       " 20.401705,\n",
       " 20.297276,\n",
       " 20.251175,\n",
       " 20.208452,\n",
       " 20.66758,\n",
       " 20.200602,\n",
       " 20.076202,\n",
       " 20.0509,\n",
       " 19.991987,\n",
       " 19.953743,\n",
       " 19.899876,\n",
       " 19.892353,\n",
       " 19.816832,\n",
       " 19.808979,\n",
       " 19.724907,\n",
       " 19.691416,\n",
       " 19.626625,\n",
       " 19.581924,\n",
       " 19.538586,\n",
       " 19.495697,\n",
       " 19.449963,\n",
       " 19.407007,\n",
       " 19.36006,\n",
       " 19.323912,\n",
       " 19.299847,\n",
       " 19.28591,\n",
       " 19.186504,\n",
       " 19.133713,\n",
       " 19.090309,\n",
       " 19.058544,\n",
       " 19.127409,\n",
       " 18.955772,\n",
       " 18.912861,\n",
       " 18.875231,\n",
       " 18.820183,\n",
       " 18.77544,\n",
       " 18.750614,\n",
       " 18.73333]"
      ]
     },
     "execution_count": 19,
     "metadata": {},
     "output_type": "execute_result"
    }
   ],
   "source": [
    "test_costs"
   ]
  },
  {
   "cell_type": "code",
   "execution_count": 20,
   "metadata": {},
   "outputs": [
    {
     "data": {
      "text/plain": [
       "array([[ 1207.90490723],\n",
       "       [ 1207.90490723],\n",
       "       [ 1207.89880371],\n",
       "       ..., \n",
       "       [ 2175.36083984],\n",
       "       [ 2175.36083984],\n",
       "       [ 2175.36083984]], dtype=float32)"
      ]
     },
     "execution_count": 20,
     "metadata": {},
     "output_type": "execute_result"
    }
   ],
   "source": [
    "pred_final"
   ]
  },
  {
   "cell_type": "code",
   "execution_count": 76,
   "metadata": {
    "collapsed": true
   },
   "outputs": [],
   "source": [
    "test1 = pd.DataFrame({'nLastTradedPrice': list(test['nBestSellOrderPrice'] - 0.5)})\n",
    "test1.to_csv('submission2.csv', index = False)"
   ]
  },
  {
   "cell_type": "code",
   "execution_count": 24,
   "metadata": {
    "collapsed": true
   },
   "outputs": [
    {
     "data": {
      "text/plain": [
       "1200.00    1327\n",
       "1200.15     585\n",
       "1196.00     360\n",
       "1197.00     309\n",
       "1200.10     291\n",
       "1199.00     264\n",
       "1200.05     261\n",
       "1198.00     235\n",
       "1208.00     189\n",
       "1198.50     160\n",
       "1200.50     153\n",
       "1200.20     149\n",
       "1211.00     134\n",
       "1201.00     132\n",
       "1196.50     132\n",
       "1207.00     131\n",
       "1210.00     124\n",
       "1199.30     115\n",
       "1199.05     109\n",
       "1199.25     109\n",
       "1200.45     107\n",
       "1200.60     102\n",
       "1200.40      99\n",
       "1197.50      98\n",
       "1196.55      93\n",
       "1207.50      93\n",
       "1199.35      90\n",
       "1199.50      87\n",
       "1195.50      85\n",
       "1168.55      85\n",
       "           ... \n",
       "1170.40       1\n",
       "1191.45       1\n",
       "1185.30       1\n",
       "1204.75       1\n",
       "1187.10       1\n",
       "1185.05       1\n",
       "1183.35       1\n",
       "1204.25       1\n",
       "1183.10       1\n",
       "1180.55       1\n",
       "1167.80       1\n",
       "1180.80       1\n",
       "1211.65       1\n",
       "1186.60       1\n",
       "1194.40       1\n",
       "1185.20       1\n",
       "1184.95       1\n",
       "1174.65       1\n",
       "1184.35       1\n",
       "1177.10       1\n",
       "1178.85       1\n",
       "1187.70       1\n",
       "1177.80       1\n",
       "1177.05       1\n",
       "1183.45       1\n",
       "1178.35       1\n",
       "1180.20       1\n",
       "1187.20       1\n",
       "1188.80       1\n",
       "1190.35       1\n",
       "Name: nLastTradedPrice, Length: 732, dtype: int64"
      ]
     },
     "execution_count": 24,
     "metadata": {},
     "output_type": "execute_result"
    }
   ],
   "source": [
    "train['nLastTradedPrice'].value_counts()"
   ]
  },
  {
   "cell_type": "code",
   "execution_count": 20,
   "metadata": {},
   "outputs": [
    {
     "name": "stderr",
     "output_type": "stream",
     "text": [
      "/home/agastya/anaconda3/lib/python3.6/site-packages/sklearn/cross_validation.py:41: DeprecationWarning: This module was deprecated in version 0.18 in favor of the model_selection module into which all the refactored classes and functions are moved. Also note that the interface of the new CV iterators are different from that of this module. This module will be removed in 0.20.\n",
      "  \"This module will be removed in 0.20.\", DeprecationWarning)\n"
     ]
    }
   ],
   "source": [
    "from subprocess import check_output\n",
    "from keras.layers.core import Dense, Activation, Dropout\n",
    "from keras.layers.recurrent import LSTM\n",
    "from keras.models import Sequential\n",
    "from sklearn.cross_validation import  train_test_split\n",
    "import time #helper libraries\n",
    "from sklearn.preprocessing import MinMaxScaler\n",
    "import matplotlib.pyplot as plt\n",
    "from numpy import newaxis"
   ]
  },
  {
   "cell_type": "code",
   "execution_count": 23,
   "metadata": {},
   "outputs": [
    {
     "data": {
      "text/html": [
       "<div>\n",
       "<style>\n",
       "    .dataframe thead tr:only-child th {\n",
       "        text-align: right;\n",
       "    }\n",
       "\n",
       "    .dataframe thead th {\n",
       "        text-align: left;\n",
       "    }\n",
       "\n",
       "    .dataframe tbody tr th {\n",
       "        vertical-align: top;\n",
       "    }\n",
       "</style>\n",
       "<table border=\"1\" class=\"dataframe\">\n",
       "  <thead>\n",
       "    <tr style=\"text-align: right;\">\n",
       "      <th></th>\n",
       "      <th>nSerialNumber</th>\n",
       "      <th>TimeStamp</th>\n",
       "      <th>sSymbol</th>\n",
       "      <th>nBestBuyOrderPrice</th>\n",
       "      <th>nBestBuyOrderQuantity</th>\n",
       "      <th>nBestSellOrderPrice</th>\n",
       "      <th>nBestSellOrderQuantity</th>\n",
       "      <th>nLastTradedPrice</th>\n",
       "      <th>nTotalTradedQuantity</th>\n",
       "    </tr>\n",
       "  </thead>\n",
       "  <tbody>\n",
       "    <tr>\n",
       "      <th>0</th>\n",
       "      <td>1</td>\n",
       "      <td>01-09-2017 09:15</td>\n",
       "      <td>XYZ Corporation</td>\n",
       "      <td>1173.05</td>\n",
       "      <td>26</td>\n",
       "      <td>1174.20</td>\n",
       "      <td>335</td>\n",
       "      <td>1173.00</td>\n",
       "      <td>2850</td>\n",
       "    </tr>\n",
       "    <tr>\n",
       "      <th>1</th>\n",
       "      <td>2</td>\n",
       "      <td>01-09-2017 09:15</td>\n",
       "      <td>XYZ Corporation</td>\n",
       "      <td>1172.10</td>\n",
       "      <td>5</td>\n",
       "      <td>1172.95</td>\n",
       "      <td>21</td>\n",
       "      <td>1172.95</td>\n",
       "      <td>3049</td>\n",
       "    </tr>\n",
       "    <tr>\n",
       "      <th>2</th>\n",
       "      <td>3</td>\n",
       "      <td>01-09-2017 09:15</td>\n",
       "      <td>XYZ Corporation</td>\n",
       "      <td>1172.00</td>\n",
       "      <td>163</td>\n",
       "      <td>1172.10</td>\n",
       "      <td>6</td>\n",
       "      <td>1172.00</td>\n",
       "      <td>3112</td>\n",
       "    </tr>\n",
       "    <tr>\n",
       "      <th>3</th>\n",
       "      <td>4</td>\n",
       "      <td>01-09-2017 09:15</td>\n",
       "      <td>XYZ Corporation</td>\n",
       "      <td>1172.00</td>\n",
       "      <td>23</td>\n",
       "      <td>1172.90</td>\n",
       "      <td>26</td>\n",
       "      <td>1172.00</td>\n",
       "      <td>3384</td>\n",
       "    </tr>\n",
       "    <tr>\n",
       "      <th>4</th>\n",
       "      <td>5</td>\n",
       "      <td>01-09-2017 09:15</td>\n",
       "      <td>XYZ Corporation</td>\n",
       "      <td>1171.00</td>\n",
       "      <td>111</td>\n",
       "      <td>1171.05</td>\n",
       "      <td>9</td>\n",
       "      <td>1171.00</td>\n",
       "      <td>3579</td>\n",
       "    </tr>\n",
       "  </tbody>\n",
       "</table>\n",
       "</div>"
      ],
      "text/plain": [
       "   nSerialNumber         TimeStamp          sSymbol  nBestBuyOrderPrice  \\\n",
       "0              1  01-09-2017 09:15  XYZ Corporation             1173.05   \n",
       "1              2  01-09-2017 09:15  XYZ Corporation             1172.10   \n",
       "2              3  01-09-2017 09:15  XYZ Corporation             1172.00   \n",
       "3              4  01-09-2017 09:15  XYZ Corporation             1172.00   \n",
       "4              5  01-09-2017 09:15  XYZ Corporation             1171.00   \n",
       "\n",
       "   nBestBuyOrderQuantity  nBestSellOrderPrice  nBestSellOrderQuantity  \\\n",
       "0                     26              1174.20                     335   \n",
       "1                      5              1172.95                      21   \n",
       "2                    163              1172.10                       6   \n",
       "3                     23              1172.90                      26   \n",
       "4                    111              1171.05                       9   \n",
       "\n",
       "   nLastTradedPrice  nTotalTradedQuantity  \n",
       "0           1173.00                  2850  \n",
       "1           1172.95                  3049  \n",
       "2           1172.00                  3112  \n",
       "3           1172.00                  3384  \n",
       "4           1171.00                  3579  "
      ]
     },
     "execution_count": 23,
     "metadata": {},
     "output_type": "execute_result"
    }
   ],
   "source": [
    "train.head()"
   ]
  },
  {
   "cell_type": "code",
   "execution_count": 33,
   "metadata": {
    "collapsed": true
   },
   "outputs": [],
   "source": [
    "# convert series to supervised learning\n",
    "def series_to_supervised(data, n_in=1, n_out=1, dropnan=True):\n",
    "    n_vars = 1 if type(data) is list else data.shape[1]\n",
    "    df = pd.DataFrame(data)\n",
    "    cols, names = list(), list()\n",
    "    # input sequence (t-n, ... t-1)\n",
    "    for i in range(n_in, 0, -1):\n",
    "        cols.append(df.shift(i))\n",
    "        names += [('var%d(t-%d)' % (j+1, i)) for j in range(n_vars)]\n",
    "    # forecast sequence (t, t+1, ... t+n)\n",
    "    for i in range(0, n_out):\n",
    "        cols.append(df.shift(-i))\n",
    "        if i == 0:\n",
    "            names += [('var%d(t)' % (j+1)) for j in range(n_vars)]\n",
    "        else:\n",
    "            names += [('var%d(t+%d)' % (j+1, i)) for j in range(n_vars)]\n",
    "    # put it all together\n",
    "    agg = pd.concat(cols, axis=1)\n",
    "    agg.columns = names\n",
    "    # drop rows with NaN values\n",
    "    if dropnan:\n",
    "        agg.dropna(inplace=True)\n",
    "    return agg"
   ]
  },
  {
   "cell_type": "code",
   "execution_count": 26,
   "metadata": {},
   "outputs": [
    {
     "name": "stdout",
     "output_type": "stream",
     "text": [
      "<class 'pandas.core.frame.DataFrame'>\n",
      "RangeIndex: 16599 entries, 0 to 16598\n",
      "Data columns (total 9 columns):\n",
      "nSerialNumber             16599 non-null int64\n",
      "TimeStamp                 16599 non-null object\n",
      "sSymbol                   16599 non-null object\n",
      "nBestBuyOrderPrice        16599 non-null float64\n",
      "nBestBuyOrderQuantity     16599 non-null int64\n",
      "nBestSellOrderPrice       16599 non-null float64\n",
      "nBestSellOrderQuantity    16599 non-null int64\n",
      "nLastTradedPrice          16599 non-null float64\n",
      "nTotalTradedQuantity      16599 non-null int64\n",
      "dtypes: float64(3), int64(4), object(2)\n",
      "memory usage: 1.1+ MB\n"
     ]
    }
   ],
   "source": [
    "train.info()"
   ]
  },
  {
   "cell_type": "code",
   "execution_count": 28,
   "metadata": {
    "collapsed": true
   },
   "outputs": [],
   "source": [
    "train = train.drop(['nSerialNumber', 'sSymbol'], axis=1)\n",
    "train = train[['nBestBuyOrderPrice', 'nBestBuyOrderQuantity', 'nBestSellOrderPrice',\n",
    "               'nBestSellOrderQuantity', 'nTotalTradedQuantity', 'nLastTradedPrice']]"
   ]
  },
  {
   "cell_type": "code",
   "execution_count": 47,
   "metadata": {},
   "outputs": [
    {
     "name": "stdout",
     "output_type": "stream",
     "text": [
      "   var1(t-1)  var2(t-1)  var3(t-1)  var4(t-1)  var5(t-1)  var6(t-1)   var1(t)  \\\n",
      "1   0.966070   0.006469   0.161156   0.044303   0.000124   0.143442  0.965287   \n",
      "2   0.965287   0.001244   0.135328   0.002653   0.000248   0.142416  0.965205   \n",
      "3   0.965205   0.040557   0.117767   0.000663   0.000372   0.122950  0.965205   \n",
      "4   0.965205   0.005723   0.134296   0.003316   0.000496   0.122950  0.964381   \n",
      "5   0.964381   0.027619   0.096075   0.001061   0.000620   0.102459  0.964381   \n",
      "\n",
      "    var2(t)   var3(t)   var4(t)   var5(t)   var6(t)  \n",
      "1  0.001244  0.135328  0.002653  0.000248  0.142416  \n",
      "2  0.040557  0.117767  0.000663  0.000372  0.122950  \n",
      "3  0.005723  0.134296  0.003316  0.000496  0.122950  \n",
      "4  0.027619  0.096075  0.001061  0.000620  0.102459  \n",
      "5  0.004728  0.114668  0.003316  0.000743  0.102459  \n"
     ]
    }
   ],
   "source": [
    "# load dataset\n",
    "values = train.values\n",
    "# integer encode direction\n",
    "from sklearn.preprocessing import LabelEncoder\n",
    "encoder = LabelEncoder()\n",
    "values[:,4] = encoder.fit_transform(values[:,4])\n",
    "# ensure all data is float\n",
    "values = values.astype('float32')\n",
    "# normalize features\n",
    "scaler = MinMaxScaler(feature_range=(0, 1))\n",
    "scaled = scaler.fit_transform(values)\n",
    "# frame as supervised learning\n",
    "reframed = series_to_supervised(scaled, 1, 1)\n",
    "# drop columns we don't want to predict\n",
    "#reframed.drop(reframed.columns[[7, 8, 9,10,11]], axis=1, inplace=True)\n",
    "print(reframed.head())"
   ]
  },
  {
   "cell_type": "code",
   "execution_count": 51,
   "metadata": {
    "collapsed": true
   },
   "outputs": [],
   "source": [
    "final = np.array(MinMaxScaler().fit_transform(values[:,:4]))"
   ]
  },
  {
   "cell_type": "code",
   "execution_count": null,
   "metadata": {
    "collapsed": true
   },
   "outputs": [],
   "source": []
  }
 ],
 "metadata": {
  "kernelspec": {
   "display_name": "Python 3",
   "language": "python",
   "name": "python3"
  },
  "language_info": {
   "codemirror_mode": {
    "name": "ipython",
    "version": 3
   },
   "file_extension": ".py",
   "mimetype": "text/x-python",
   "name": "python",
   "nbconvert_exporter": "python",
   "pygments_lexer": "ipython3",
   "version": "3.6.3"
  }
 },
 "nbformat": 4,
 "nbformat_minor": 2
}
