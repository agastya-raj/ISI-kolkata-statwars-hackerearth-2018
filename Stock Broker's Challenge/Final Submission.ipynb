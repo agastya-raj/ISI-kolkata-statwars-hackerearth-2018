{
 "cells": [
  {
   "cell_type": "code",
   "execution_count": 5,
   "metadata": {
    "collapsed": true
   },
   "outputs": [],
   "source": [
    "import numpy as np\n",
    "import pandas as pd\n",
    "import scipy as sp\n",
    "import sklearn\n",
    "import matplotlib.pyplot as plt\n",
    "import seaborn as sns\n",
    "import os\n",
    "import time\n",
    "import math\n",
    "%matplotlib inline\n",
    "os.chdir(\"G:\\\\New Folder\\\\hacker_stock\")"
   ]
  },
  {
   "cell_type": "code",
   "execution_count": 6,
   "metadata": {
    "collapsed": true
   },
   "outputs": [],
   "source": [
    "data = pd.read_csv('trainData.csv')\n",
    "w = pd.read_csv('testData.csv')\n",
    "data = pd.concat([data , w] , axis=0)"
   ]
  },
  {
   "cell_type": "code",
   "execution_count": 14,
   "metadata": {},
   "outputs": [
    {
     "data": {
      "text/plain": [
       "51"
      ]
     },
     "execution_count": 14,
     "metadata": {},
     "output_type": "execute_result"
    }
   ],
   "source": [
    "np.sum(w['nBestBuyOrderPrice'] >= w['nBestSellOrderPrice'])"
   ]
  },
  {
   "cell_type": "code",
   "execution_count": 5,
   "metadata": {},
   "outputs": [
    {
     "data": {
      "text/html": [
       "<div>\n",
       "<style>\n",
       "    .dataframe thead tr:only-child th {\n",
       "        text-align: right;\n",
       "    }\n",
       "\n",
       "    .dataframe thead th {\n",
       "        text-align: left;\n",
       "    }\n",
       "\n",
       "    .dataframe tbody tr th {\n",
       "        vertical-align: top;\n",
       "    }\n",
       "</style>\n",
       "<table border=\"1\" class=\"dataframe\">\n",
       "  <thead>\n",
       "    <tr style=\"text-align: right;\">\n",
       "      <th></th>\n",
       "      <th>nSerialNumber</th>\n",
       "      <th>TimeStamp</th>\n",
       "      <th>sSymbol</th>\n",
       "      <th>nBestBuyOrderPrice</th>\n",
       "      <th>nBestBuyOrderQuantity</th>\n",
       "      <th>nBestSellOrderPrice</th>\n",
       "      <th>nBestSellOrderQuantity</th>\n",
       "      <th>nLastTradedPrice</th>\n",
       "      <th>nTotalTradedQuantity</th>\n",
       "    </tr>\n",
       "  </thead>\n",
       "  <tbody>\n",
       "    <tr>\n",
       "      <th>0</th>\n",
       "      <td>1</td>\n",
       "      <td>01-09-2017 09:15</td>\n",
       "      <td>XYZ Corporation</td>\n",
       "      <td>1173.05</td>\n",
       "      <td>26</td>\n",
       "      <td>1174.20</td>\n",
       "      <td>335</td>\n",
       "      <td>1173.00</td>\n",
       "      <td>2850</td>\n",
       "    </tr>\n",
       "    <tr>\n",
       "      <th>1</th>\n",
       "      <td>2</td>\n",
       "      <td>01-09-2017 09:15</td>\n",
       "      <td>XYZ Corporation</td>\n",
       "      <td>1172.10</td>\n",
       "      <td>5</td>\n",
       "      <td>1172.95</td>\n",
       "      <td>21</td>\n",
       "      <td>1172.95</td>\n",
       "      <td>3049</td>\n",
       "    </tr>\n",
       "    <tr>\n",
       "      <th>2</th>\n",
       "      <td>3</td>\n",
       "      <td>01-09-2017 09:15</td>\n",
       "      <td>XYZ Corporation</td>\n",
       "      <td>1172.00</td>\n",
       "      <td>163</td>\n",
       "      <td>1172.10</td>\n",
       "      <td>6</td>\n",
       "      <td>1172.00</td>\n",
       "      <td>3112</td>\n",
       "    </tr>\n",
       "    <tr>\n",
       "      <th>3</th>\n",
       "      <td>4</td>\n",
       "      <td>01-09-2017 09:15</td>\n",
       "      <td>XYZ Corporation</td>\n",
       "      <td>1172.00</td>\n",
       "      <td>23</td>\n",
       "      <td>1172.90</td>\n",
       "      <td>26</td>\n",
       "      <td>1172.00</td>\n",
       "      <td>3384</td>\n",
       "    </tr>\n",
       "    <tr>\n",
       "      <th>4</th>\n",
       "      <td>5</td>\n",
       "      <td>01-09-2017 09:15</td>\n",
       "      <td>XYZ Corporation</td>\n",
       "      <td>1171.00</td>\n",
       "      <td>111</td>\n",
       "      <td>1171.05</td>\n",
       "      <td>9</td>\n",
       "      <td>1171.00</td>\n",
       "      <td>3579</td>\n",
       "    </tr>\n",
       "  </tbody>\n",
       "</table>\n",
       "</div>"
      ],
      "text/plain": [
       "   nSerialNumber         TimeStamp          sSymbol  nBestBuyOrderPrice  \\\n",
       "0              1  01-09-2017 09:15  XYZ Corporation             1173.05   \n",
       "1              2  01-09-2017 09:15  XYZ Corporation             1172.10   \n",
       "2              3  01-09-2017 09:15  XYZ Corporation             1172.00   \n",
       "3              4  01-09-2017 09:15  XYZ Corporation             1172.00   \n",
       "4              5  01-09-2017 09:15  XYZ Corporation             1171.00   \n",
       "\n",
       "   nBestBuyOrderQuantity  nBestSellOrderPrice  nBestSellOrderQuantity  \\\n",
       "0                     26              1174.20                     335   \n",
       "1                      5              1172.95                      21   \n",
       "2                    163              1172.10                       6   \n",
       "3                     23              1172.90                      26   \n",
       "4                    111              1171.05                       9   \n",
       "\n",
       "   nLastTradedPrice  nTotalTradedQuantity  \n",
       "0           1173.00                  2850  \n",
       "1           1172.95                  3049  \n",
       "2           1172.00                  3112  \n",
       "3           1172.00                  3384  \n",
       "4           1171.00                  3579  "
      ]
     },
     "execution_count": 5,
     "metadata": {},
     "output_type": "execute_result"
    }
   ],
   "source": [
    "data.head()"
   ]
  },
  {
   "cell_type": "code",
   "execution_count": 6,
   "metadata": {},
   "outputs": [
    {
     "data": {
      "text/plain": [
       "(99347, 9)"
      ]
     },
     "execution_count": 6,
     "metadata": {},
     "output_type": "execute_result"
    }
   ],
   "source": [
    "data.shape"
   ]
  },
  {
   "cell_type": "code",
   "execution_count": 7,
   "metadata": {},
   "outputs": [
    {
     "data": {
      "text/plain": [
       "(82748, 9)"
      ]
     },
     "execution_count": 7,
     "metadata": {},
     "output_type": "execute_result"
    }
   ],
   "source": [
    "w.shape"
   ]
  },
  {
   "cell_type": "code",
   "execution_count": 8,
   "metadata": {},
   "outputs": [
    {
     "name": "stdout",
     "output_type": "stream",
     "text": [
      "<class 'pandas.core.frame.DataFrame'>\n",
      "Int64Index: 99347 entries, 0 to 82747\n",
      "Data columns (total 9 columns):\n",
      "nSerialNumber             99347 non-null int64\n",
      "TimeStamp                 99347 non-null object\n",
      "sSymbol                   99347 non-null object\n",
      "nBestBuyOrderPrice        99347 non-null float64\n",
      "nBestBuyOrderQuantity     99347 non-null int64\n",
      "nBestSellOrderPrice       99347 non-null float64\n",
      "nBestSellOrderQuantity    99347 non-null int64\n",
      "nLastTradedPrice          16599 non-null float64\n",
      "nTotalTradedQuantity      99347 non-null int64\n",
      "dtypes: float64(3), int64(4), object(2)\n",
      "memory usage: 7.6+ MB\n"
     ]
    }
   ],
   "source": [
    "data.info()"
   ]
  },
  {
   "cell_type": "code",
   "execution_count": 9,
   "metadata": {},
   "outputs": [
    {
     "data": {
      "text/plain": [
       "count    9.934700e+04\n",
       "mean     3.820876e+05\n",
       "std      3.034174e+05\n",
       "min      5.000000e+00\n",
       "25%      1.554780e+05\n",
       "50%      2.920390e+05\n",
       "75%      5.401590e+05\n",
       "max      1.523879e+06\n",
       "Name: nTotalTradedQuantity, dtype: float64"
      ]
     },
     "execution_count": 9,
     "metadata": {},
     "output_type": "execute_result"
    }
   ],
   "source": [
    "data['nTotalTradedQuantity'].describe()"
   ]
  },
  {
   "cell_type": "code",
   "execution_count": 10,
   "metadata": {},
   "outputs": [
    {
     "data": {
      "image/png": "[encoded data removed]",
      "text/plain": [
       "<matplotlib.figure.Figure at 0xcaf931d518>"
      ]
     },
     "metadata": {},
     "output_type": "display_data"
    }
   ],
   "source": [
    "plt.plot(pd.to_datetime(data['TimeStamp'].iloc[0:16000]), data['nLastTradedPrice'].iloc[0:16000])\n",
    "plt.show()\n",
    "\n"
   ]
  },
  {
   "cell_type": "code",
   "execution_count": 163,
   "metadata": {},
   "outputs": [
    {
     "data": {
      "image/png": "[encoded data removed]",
      "text/plain": [
       "<matplotlib.figure.Figure at 0xe4776bebe0>"
      ]
     },
     "metadata": {},
     "output_type": "display_data"
    }
   ],
   "source": [
    "plt.plot(pd.to_datetime(data['TimeStamp'].iloc[0:12000]), data['nBestBuyOrderPrice'].iloc[0:12000])\n",
    "plt.show()"
   ]
  },
  {
   "cell_type": "code",
   "execution_count": 11,
   "metadata": {
    "collapsed": true
   },
   "outputs": [],
   "source": [
    "date = pd.to_datetime(data['TimeStamp']) - pd.to_datetime(data['TimeStamp'].min()) "
   ]
  },
  {
   "cell_type": "code",
   "execution_count": 46,
   "metadata": {
    "collapsed": true
   },
   "outputs": [],
   "source": [
    "data_1 = pd.DataFrame()\n"
   ]
  },
  {
   "cell_type": "code",
   "execution_count": 64,
   "metadata": {
    "collapsed": true
   },
   "outputs": [],
   "source": [
    "date2 = pd.to_datetime(data['TimeStamp'])"
   ]
  },
  {
   "cell_type": "code",
   "execution_count": 65,
   "metadata": {},
   "outputs": [
    {
     "data": {
      "text/plain": [
       "10    16263\n",
       "14    16259\n",
       "11    14899\n",
       "9     14612\n",
       "12    14071\n",
       "13    13280\n",
       "15     9963\n",
       "Name: TimeStamp, dtype: int64"
      ]
     },
     "execution_count": 65,
     "metadata": {},
     "output_type": "execute_result"
    }
   ],
   "source": [
    "date2.dt.hour.value_counts()"
   ]
  },
  {
   "cell_type": "code",
   "execution_count": 66,
   "metadata": {},
   "outputs": [],
   "source": [
    "data_1['time'] =  date2.dt.minute + date2.dt.hour*60"
   ]
  },
  {
   "cell_type": "code",
   "execution_count": 47,
   "metadata": {
    "collapsed": true
   },
   "outputs": [],
   "source": [
    "data_1['sSymbol'] = data['sSymbol'].apply(lambda x: 0  if(x =='XYZ Corp') else(1))"
   ]
  },
  {
   "cell_type": "code",
   "execution_count": 195,
   "metadata": {},
   "outputs": [
    {
     "name": "stdout",
     "output_type": "stream",
     "text": [
      "0\n"
     ]
    }
   ],
   "source": [
    "k=0\n",
    "for i in range(16599):\n",
    "    if data['nBestSellOrderPrice'].iloc[i] < 1000 :\n",
    "        k+=1\n",
    "        \n",
    "print(k)"
   ]
  },
  {
   "cell_type": "code",
   "execution_count": 49,
   "metadata": {
    "collapsed": true
   },
   "outputs": [],
   "source": [
    "data_1['nBestBuyOrderPrice'] = data['nBestBuyOrderPrice']\n",
    "data_1['nBestSellOrderPrice'] = data['nBestSellOrderPrice']\n",
    "#data_1['nBestSellOrderQuantity'] = data['nBestSellOrderQuantity']\n",
    "#data_1['nTotalTradedQuantity'] = data['nTotalTradedQuantity']\n",
    "data_1['nLastTradedPrice'] = data['nLastTradedPrice']"
   ]
  },
  {
   "cell_type": "code",
   "execution_count": null,
   "metadata": {
    "collapsed": true
   },
   "outputs": [],
   "source": [
    "w.shape"
   ]
  },
  {
   "cell_type": "code",
   "execution_count": 67,
   "metadata": {
    "collapsed": true
   },
   "outputs": [],
   "source": [
    "train = data_1.iloc[:16599,:]\n",
    "#train = train.drop(['nLastTradedPrice'] , axis=1)\n",
    "test = data_1.iloc[16599:,:]"
   ]
  },
  {
   "cell_type": "code",
   "execution_count": 74,
   "metadata": {},
   "outputs": [
    {
     "name": "stderr",
     "output_type": "stream",
     "text": [
      "C:\\Users\\Ankit Kumar Singh\\Anaconda3\\lib\\site-packages\\ipykernel_launcher.py:1: SettingWithCopyWarning: \n",
      "A value is trying to be set on a copy of a slice from a DataFrame.\n",
      "Try using .loc[row_indexer,col_indexer] = value instead\n",
      "\n",
      "See the caveats in the documentation: http://pandas.pydata.org/pandas-docs/stable/indexing.html#indexing-view-versus-copy\n",
      "  \"\"\"Entry point for launching an IPython kernel.\n",
      "C:\\Users\\Ankit Kumar Singh\\Anaconda3\\lib\\site-packages\\ipykernel_launcher.py:3: SettingWithCopyWarning: \n",
      "A value is trying to be set on a copy of a slice from a DataFrame.\n",
      "Try using .loc[row_indexer,col_indexer] = value instead\n",
      "\n",
      "See the caveats in the documentation: http://pandas.pydata.org/pandas-docs/stable/indexing.html#indexing-view-versus-copy\n",
      "  This is separate from the ipykernel package so we can avoid doing imports until\n"
     ]
    }
   ],
   "source": [
    "test['nBestSellOrderPrice'] = test['nBestSellOrderPrice'].apply(lambda x: np.mean(test['nBestSellOrderPrice'] if x > 1300 else x))\n",
    "#test['nBestSellOrderPrice'] = test['nBestSellOrderPrice'].apply(lambda x: np.mean(test['nBestSellOrderPrice'] if x < 1000 else x))\n",
    "test['nBestBuyOrderPrice'] = test['nBestBuyOrderPrice'].apply(lambda x: np.mean(test['nBestBuyOrderPrice'] if x < 1000 else x))\n",
    "#test['nBestSellOrderQuantity'] = test['nBestSellOrderQuantity'].apply(lambda x: np.mean(test['nBestSellOrderQuantity'] if x > 3000 else x))\n",
    "#test['nBestBuyOrderQuantity'] = test['nBestBuyOrderQuantity'].apply(lambda x: np.mean(test['nBestBuyOrderQuantity'] if x > 4000 else x))\n",
    "#test['nTotalTradedQuantity'] = test['nTotalTradedQuantity'].apply(lambda x: np.mean(test['nTotalTradedQuantity'] if x > 1000000 else x))"
   ]
  },
  {
   "cell_type": "code",
   "execution_count": 75,
   "metadata": {},
   "outputs": [
    {
     "name": "stderr",
     "output_type": "stream",
     "text": [
      "C:\\Users\\Ankit Kumar Singh\\Anaconda3\\lib\\site-packages\\ipykernel_launcher.py:1: SettingWithCopyWarning: \n",
      "A value is trying to be set on a copy of a slice from a DataFrame.\n",
      "Try using .loc[row_indexer,col_indexer] = value instead\n",
      "\n",
      "See the caveats in the documentation: http://pandas.pydata.org/pandas-docs/stable/indexing.html#indexing-view-versus-copy\n",
      "  \"\"\"Entry point for launching an IPython kernel.\n"
     ]
    },
    {
     "ename": "KeyError",
     "evalue": "'nTotalTradedQuantity'",
     "output_type": "error",
     "traceback": [
      "\u001b[1;31m---------------------------------------------------------------------------\u001b[0m",
      "\u001b[1;31mKeyError\u001b[0m                                  Traceback (most recent call last)",
      "\u001b[1;32mC:\\Users\\Ankit Kumar Singh\\Anaconda3\\lib\\site-packages\\pandas\\core\\indexes\\base.py\u001b[0m in \u001b[0;36mget_loc\u001b[1;34m(self, key, method, tolerance)\u001b[0m\n\u001b[0;32m   2392\u001b[0m             \u001b[1;32mtry\u001b[0m\u001b[1;33m:\u001b[0m\u001b[1;33m\u001b[0m\u001b[0m\n\u001b[1;32m-> 2393\u001b[1;33m                 \u001b[1;32mreturn\u001b[0m \u001b[0mself\u001b[0m\u001b[1;33m.\u001b[0m\u001b[0m_engine\u001b[0m\u001b[1;33m.\u001b[0m\u001b[0mget_loc\u001b[0m\u001b[1;33m(\u001b[0m\u001b[0mkey\u001b[0m\u001b[1;33m)\u001b[0m\u001b[1;33m\u001b[0m\u001b[0m\n\u001b[0m\u001b[0;32m   2394\u001b[0m             \u001b[1;32mexcept\u001b[0m \u001b[0mKeyError\u001b[0m\u001b[1;33m:\u001b[0m\u001b[1;33m\u001b[0m\u001b[0m\n",
      "\u001b[1;32mpandas\\_libs\\index.pyx\u001b[0m in \u001b[0;36mpandas._libs.index.IndexEngine.get_loc (pandas\\_libs\\index.c:5239)\u001b[1;34m()\u001b[0m\n",
      "\u001b[1;32mpandas\\_libs\\index.pyx\u001b[0m in \u001b[0;36mpandas._libs.index.IndexEngine.get_loc (pandas\\_libs\\index.c:5085)\u001b[1;34m()\u001b[0m\n",
      "\u001b[1;32mpandas\\_libs\\hashtable_class_helper.pxi\u001b[0m in \u001b[0;36mpandas._libs.hashtable.PyObjectHashTable.get_item (pandas\\_libs\\hashtable.c:20405)\u001b[1;34m()\u001b[0m\n",
      "\u001b[1;32mpandas\\_libs\\hashtable_class_helper.pxi\u001b[0m in \u001b[0;36mpandas._libs.hashtable.PyObjectHashTable.get_item (pandas\\_libs\\hashtable.c:20359)\u001b[1;34m()\u001b[0m\n",
      "\u001b[1;31mKeyError\u001b[0m: 'nTotalTradedQuantity'",
      "\nDuring handling of the above exception, another exception occurred:\n",
      "\u001b[1;31mKeyError\u001b[0m                                  Traceback (most recent call last)",
      "\u001b[1;32m<ipython-input-75-e9fd1a2b045e>\u001b[0m in \u001b[0;36m<module>\u001b[1;34m()\u001b[0m\n\u001b[0;32m      2\u001b[0m \u001b[1;31m#train['nBestSellOrderQuantity'] = train['nBestSellOrderQuantity'].apply(lambda x: np.mean(train['nBestSellOrderQuantity'] if x > 4000 else x))\u001b[0m\u001b[1;33m\u001b[0m\u001b[1;33m\u001b[0m\u001b[0m\n\u001b[0;32m      3\u001b[0m \u001b[1;31m#train['nBestBuyOrderQuantity'] = train['nBestBuyOrderQuantity'].apply(lambda x: np.mean(train['nBestBuyOrderQuantity'] if x > 3500 else x))\u001b[0m\u001b[1;33m\u001b[0m\u001b[1;33m\u001b[0m\u001b[0m\n\u001b[1;32m----> 4\u001b[1;33m \u001b[0mtrain\u001b[0m\u001b[1;33m[\u001b[0m\u001b[1;34m'nTotalTradedQuantity'\u001b[0m\u001b[1;33m]\u001b[0m \u001b[1;33m=\u001b[0m \u001b[0mtrain\u001b[0m\u001b[1;33m[\u001b[0m\u001b[1;34m'nTotalTradedQuantity'\u001b[0m\u001b[1;33m]\u001b[0m\u001b[1;33m.\u001b[0m\u001b[0mapply\u001b[0m\u001b[1;33m(\u001b[0m\u001b[1;32mlambda\u001b[0m \u001b[0mx\u001b[0m\u001b[1;33m:\u001b[0m \u001b[0mnp\u001b[0m\u001b[1;33m.\u001b[0m\u001b[0mmean\u001b[0m\u001b[1;33m(\u001b[0m\u001b[0mtrain\u001b[0m\u001b[1;33m[\u001b[0m\u001b[1;34m'nTotalTradedQuantity'\u001b[0m\u001b[1;33m]\u001b[0m \u001b[1;32mif\u001b[0m \u001b[0mx\u001b[0m \u001b[1;33m<\u001b[0m \u001b[1;36m4000\u001b[0m \u001b[1;32melse\u001b[0m \u001b[0mx\u001b[0m\u001b[1;33m)\u001b[0m\u001b[1;33m)\u001b[0m\u001b[1;33m\u001b[0m\u001b[0m\n\u001b[0m",
      "\u001b[1;32mC:\\Users\\Ankit Kumar Singh\\Anaconda3\\lib\\site-packages\\pandas\\core\\frame.py\u001b[0m in \u001b[0;36m__getitem__\u001b[1;34m(self, key)\u001b[0m\n\u001b[0;32m   2060\u001b[0m             \u001b[1;32mreturn\u001b[0m \u001b[0mself\u001b[0m\u001b[1;33m.\u001b[0m\u001b[0m_getitem_multilevel\u001b[0m\u001b[1;33m(\u001b[0m\u001b[0mkey\u001b[0m\u001b[1;33m)\u001b[0m\u001b[1;33m\u001b[0m\u001b[0m\n\u001b[0;32m   2061\u001b[0m         \u001b[1;32melse\u001b[0m\u001b[1;33m:\u001b[0m\u001b[1;33m\u001b[0m\u001b[0m\n\u001b[1;32m-> 2062\u001b[1;33m             \u001b[1;32mreturn\u001b[0m \u001b[0mself\u001b[0m\u001b[1;33m.\u001b[0m\u001b[0m_getitem_column\u001b[0m\u001b[1;33m(\u001b[0m\u001b[0mkey\u001b[0m\u001b[1;33m)\u001b[0m\u001b[1;33m\u001b[0m\u001b[0m\n\u001b[0m\u001b[0;32m   2063\u001b[0m \u001b[1;33m\u001b[0m\u001b[0m\n\u001b[0;32m   2064\u001b[0m     \u001b[1;32mdef\u001b[0m \u001b[0m_getitem_column\u001b[0m\u001b[1;33m(\u001b[0m\u001b[0mself\u001b[0m\u001b[1;33m,\u001b[0m \u001b[0mkey\u001b[0m\u001b[1;33m)\u001b[0m\u001b[1;33m:\u001b[0m\u001b[1;33m\u001b[0m\u001b[0m\n",
      "\u001b[1;32mC:\\Users\\Ankit Kumar Singh\\Anaconda3\\lib\\site-packages\\pandas\\core\\frame.py\u001b[0m in \u001b[0;36m_getitem_column\u001b[1;34m(self, key)\u001b[0m\n\u001b[0;32m   2067\u001b[0m         \u001b[1;31m# get column\u001b[0m\u001b[1;33m\u001b[0m\u001b[1;33m\u001b[0m\u001b[0m\n\u001b[0;32m   2068\u001b[0m         \u001b[1;32mif\u001b[0m \u001b[0mself\u001b[0m\u001b[1;33m.\u001b[0m\u001b[0mcolumns\u001b[0m\u001b[1;33m.\u001b[0m\u001b[0mis_unique\u001b[0m\u001b[1;33m:\u001b[0m\u001b[1;33m\u001b[0m\u001b[0m\n\u001b[1;32m-> 2069\u001b[1;33m             \u001b[1;32mreturn\u001b[0m \u001b[0mself\u001b[0m\u001b[1;33m.\u001b[0m\u001b[0m_get_item_cache\u001b[0m\u001b[1;33m(\u001b[0m\u001b[0mkey\u001b[0m\u001b[1;33m)\u001b[0m\u001b[1;33m\u001b[0m\u001b[0m\n\u001b[0m\u001b[0;32m   2070\u001b[0m \u001b[1;33m\u001b[0m\u001b[0m\n\u001b[0;32m   2071\u001b[0m         \u001b[1;31m# duplicate columns & possible reduce dimensionality\u001b[0m\u001b[1;33m\u001b[0m\u001b[1;33m\u001b[0m\u001b[0m\n",
      "\u001b[1;32mC:\\Users\\Ankit Kumar Singh\\Anaconda3\\lib\\site-packages\\pandas\\core\\generic.py\u001b[0m in \u001b[0;36m_get_item_cache\u001b[1;34m(self, item)\u001b[0m\n\u001b[0;32m   1532\u001b[0m         \u001b[0mres\u001b[0m \u001b[1;33m=\u001b[0m \u001b[0mcache\u001b[0m\u001b[1;33m.\u001b[0m\u001b[0mget\u001b[0m\u001b[1;33m(\u001b[0m\u001b[0mitem\u001b[0m\u001b[1;33m)\u001b[0m\u001b[1;33m\u001b[0m\u001b[0m\n\u001b[0;32m   1533\u001b[0m         \u001b[1;32mif\u001b[0m \u001b[0mres\u001b[0m \u001b[1;32mis\u001b[0m \u001b[1;32mNone\u001b[0m\u001b[1;33m:\u001b[0m\u001b[1;33m\u001b[0m\u001b[0m\n\u001b[1;32m-> 1534\u001b[1;33m             \u001b[0mvalues\u001b[0m \u001b[1;33m=\u001b[0m \u001b[0mself\u001b[0m\u001b[1;33m.\u001b[0m\u001b[0m_data\u001b[0m\u001b[1;33m.\u001b[0m\u001b[0mget\u001b[0m\u001b[1;33m(\u001b[0m\u001b[0mitem\u001b[0m\u001b[1;33m)\u001b[0m\u001b[1;33m\u001b[0m\u001b[0m\n\u001b[0m\u001b[0;32m   1535\u001b[0m             \u001b[0mres\u001b[0m \u001b[1;33m=\u001b[0m \u001b[0mself\u001b[0m\u001b[1;33m.\u001b[0m\u001b[0m_box_item_values\u001b[0m\u001b[1;33m(\u001b[0m\u001b[0mitem\u001b[0m\u001b[1;33m,\u001b[0m \u001b[0mvalues\u001b[0m\u001b[1;33m)\u001b[0m\u001b[1;33m\u001b[0m\u001b[0m\n\u001b[0;32m   1536\u001b[0m             \u001b[0mcache\u001b[0m\u001b[1;33m[\u001b[0m\u001b[0mitem\u001b[0m\u001b[1;33m]\u001b[0m \u001b[1;33m=\u001b[0m \u001b[0mres\u001b[0m\u001b[1;33m\u001b[0m\u001b[0m\n",
      "\u001b[1;32mC:\\Users\\Ankit Kumar Singh\\Anaconda3\\lib\\site-packages\\pandas\\core\\internals.py\u001b[0m in \u001b[0;36mget\u001b[1;34m(self, item, fastpath)\u001b[0m\n\u001b[0;32m   3588\u001b[0m \u001b[1;33m\u001b[0m\u001b[0m\n\u001b[0;32m   3589\u001b[0m             \u001b[1;32mif\u001b[0m \u001b[1;32mnot\u001b[0m \u001b[0misnull\u001b[0m\u001b[1;33m(\u001b[0m\u001b[0mitem\u001b[0m\u001b[1;33m)\u001b[0m\u001b[1;33m:\u001b[0m\u001b[1;33m\u001b[0m\u001b[0m\n\u001b[1;32m-> 3590\u001b[1;33m                 \u001b[0mloc\u001b[0m \u001b[1;33m=\u001b[0m \u001b[0mself\u001b[0m\u001b[1;33m.\u001b[0m\u001b[0mitems\u001b[0m\u001b[1;33m.\u001b[0m\u001b[0mget_loc\u001b[0m\u001b[1;33m(\u001b[0m\u001b[0mitem\u001b[0m\u001b[1;33m)\u001b[0m\u001b[1;33m\u001b[0m\u001b[0m\n\u001b[0m\u001b[0;32m   3591\u001b[0m             \u001b[1;32melse\u001b[0m\u001b[1;33m:\u001b[0m\u001b[1;33m\u001b[0m\u001b[0m\n\u001b[0;32m   3592\u001b[0m                 \u001b[0mindexer\u001b[0m \u001b[1;33m=\u001b[0m \u001b[0mnp\u001b[0m\u001b[1;33m.\u001b[0m\u001b[0marange\u001b[0m\u001b[1;33m(\u001b[0m\u001b[0mlen\u001b[0m\u001b[1;33m(\u001b[0m\u001b[0mself\u001b[0m\u001b[1;33m.\u001b[0m\u001b[0mitems\u001b[0m\u001b[1;33m)\u001b[0m\u001b[1;33m)\u001b[0m\u001b[1;33m[\u001b[0m\u001b[0misnull\u001b[0m\u001b[1;33m(\u001b[0m\u001b[0mself\u001b[0m\u001b[1;33m.\u001b[0m\u001b[0mitems\u001b[0m\u001b[1;33m)\u001b[0m\u001b[1;33m]\u001b[0m\u001b[1;33m\u001b[0m\u001b[0m\n",
      "\u001b[1;32mC:\\Users\\Ankit Kumar Singh\\Anaconda3\\lib\\site-packages\\pandas\\core\\indexes\\base.py\u001b[0m in \u001b[0;36mget_loc\u001b[1;34m(self, key, method, tolerance)\u001b[0m\n\u001b[0;32m   2393\u001b[0m                 \u001b[1;32mreturn\u001b[0m \u001b[0mself\u001b[0m\u001b[1;33m.\u001b[0m\u001b[0m_engine\u001b[0m\u001b[1;33m.\u001b[0m\u001b[0mget_loc\u001b[0m\u001b[1;33m(\u001b[0m\u001b[0mkey\u001b[0m\u001b[1;33m)\u001b[0m\u001b[1;33m\u001b[0m\u001b[0m\n\u001b[0;32m   2394\u001b[0m             \u001b[1;32mexcept\u001b[0m \u001b[0mKeyError\u001b[0m\u001b[1;33m:\u001b[0m\u001b[1;33m\u001b[0m\u001b[0m\n\u001b[1;32m-> 2395\u001b[1;33m                 \u001b[1;32mreturn\u001b[0m \u001b[0mself\u001b[0m\u001b[1;33m.\u001b[0m\u001b[0m_engine\u001b[0m\u001b[1;33m.\u001b[0m\u001b[0mget_loc\u001b[0m\u001b[1;33m(\u001b[0m\u001b[0mself\u001b[0m\u001b[1;33m.\u001b[0m\u001b[0m_maybe_cast_indexer\u001b[0m\u001b[1;33m(\u001b[0m\u001b[0mkey\u001b[0m\u001b[1;33m)\u001b[0m\u001b[1;33m)\u001b[0m\u001b[1;33m\u001b[0m\u001b[0m\n\u001b[0m\u001b[0;32m   2396\u001b[0m \u001b[1;33m\u001b[0m\u001b[0m\n\u001b[0;32m   2397\u001b[0m         \u001b[0mindexer\u001b[0m \u001b[1;33m=\u001b[0m \u001b[0mself\u001b[0m\u001b[1;33m.\u001b[0m\u001b[0mget_indexer\u001b[0m\u001b[1;33m(\u001b[0m\u001b[1;33m[\u001b[0m\u001b[0mkey\u001b[0m\u001b[1;33m]\u001b[0m\u001b[1;33m,\u001b[0m \u001b[0mmethod\u001b[0m\u001b[1;33m=\u001b[0m\u001b[0mmethod\u001b[0m\u001b[1;33m,\u001b[0m \u001b[0mtolerance\u001b[0m\u001b[1;33m=\u001b[0m\u001b[0mtolerance\u001b[0m\u001b[1;33m)\u001b[0m\u001b[1;33m\u001b[0m\u001b[0m\n",
      "\u001b[1;32mpandas\\_libs\\index.pyx\u001b[0m in \u001b[0;36mpandas._libs.index.IndexEngine.get_loc (pandas\\_libs\\index.c:5239)\u001b[1;34m()\u001b[0m\n",
      "\u001b[1;32mpandas\\_libs\\index.pyx\u001b[0m in \u001b[0;36mpandas._libs.index.IndexEngine.get_loc (pandas\\_libs\\index.c:5085)\u001b[1;34m()\u001b[0m\n",
      "\u001b[1;32mpandas\\_libs\\hashtable_class_helper.pxi\u001b[0m in \u001b[0;36mpandas._libs.hashtable.PyObjectHashTable.get_item (pandas\\_libs\\hashtable.c:20405)\u001b[1;34m()\u001b[0m\n",
      "\u001b[1;32mpandas\\_libs\\hashtable_class_helper.pxi\u001b[0m in \u001b[0;36mpandas._libs.hashtable.PyObjectHashTable.get_item (pandas\\_libs\\hashtable.c:20359)\u001b[1;34m()\u001b[0m\n",
      "\u001b[1;31mKeyError\u001b[0m: 'nTotalTradedQuantity'"
     ]
    }
   ],
   "source": [
    "train['nBestBuyOrderPrice'] = train['nBestBuyOrderPrice'].apply(lambda x: np.mean(train['nBestBuyOrderPrice'] if x < 1000 else x))\n",
    "#train['nBestSellOrderQuantity'] = train['nBestSellOrderQuantity'].apply(lambda x: np.mean(train['nBestSellOrderQuantity'] if x > 4000 else x))\n",
    "#train['nBestBuyOrderQuantity'] = train['nBestBuyOrderQuantity'].apply(lambda x: np.mean(train['nBestBuyOrderQuantity'] if x > 3500 else x))\n",
    "train['nTotalTradedQuantity'] = train['nTotalTradedQuantity'].apply(lambda x: np.mean(train['nTotalTradedQuantity'] if x < 4000 else x))"
   ]
  },
  {
   "cell_type": "code",
   "execution_count": null,
   "metadata": {
    "collapsed": true
   },
   "outputs": [],
   "source": []
  },
  {
   "cell_type": "code",
   "execution_count": 68,
   "metadata": {
    "collapsed": true
   },
   "outputs": [],
   "source": [
    "Y = 'nLastTradedPrice'\n",
    "X = [x for x in train.columns if x not in [Y]]\n",
    "#X = ['nBestSellOrderPrice']"
   ]
  },
  {
   "cell_type": "code",
   "execution_count": 69,
   "metadata": {
    "collapsed": true
   },
   "outputs": [],
   "source": [
    "from sklearn import datasets, linear_model\n",
    "regr = linear_model.LinearRegression()"
   ]
  },
  {
   "cell_type": "code",
   "execution_count": 53,
   "metadata": {},
   "outputs": [
    {
     "data": {
      "text/plain": [
       "LinearRegression(copy_X=True, fit_intercept=True, n_jobs=1, normalize=False)"
      ]
     },
     "execution_count": 53,
     "metadata": {},
     "output_type": "execute_result"
    }
   ],
   "source": [
    "regr.fit(train[X], train[Y])"
   ]
  },
  {
   "cell_type": "code",
   "execution_count": 54,
   "metadata": {
    "collapsed": true
   },
   "outputs": [],
   "source": [
    "pred = regr.predict(test[X])\n",
    "k = pd.DataFrame()\n",
    "k['nLastTradedPrice']  = regr.predict(test[X])\n"
   ]
  },
  {
   "cell_type": "code",
   "execution_count": 32,
   "metadata": {
    "collapsed": true
   },
   "outputs": [],
   "source": [
    "k['nLastTradedPrice'] = (round(k['nLastTradedPrice'],1))"
   ]
  },
  {
   "cell_type": "code",
   "execution_count": 55,
   "metadata": {
    "collapsed": true
   },
   "outputs": [],
   "source": [
    "k.to_csv('2.csv' , index=False)"
   ]
  },
  {
   "cell_type": "code",
   "execution_count": null,
   "metadata": {
    "collapsed": true
   },
   "outputs": [],
   "source": [
    "import lightgbm as lgb\n",
    "train_data=lgb.Dataset(train[X] , label = train[Y])"
   ]
  },
  {
   "cell_type": "code",
   "execution_count": null,
   "metadata": {},
   "outputs": [],
   "source": [
    "param = {'num_leaves':100, 'objective':'binary','max_depth':5,'learning_rate':.09,'max_bin':200}\n",
    "param['metric'] = ['auc', 'binary_logloss']\n",
    "num_round=80\n",
    "lgbm=lgb.train(param,train_data,num_round)"
   ]
  },
  {
   "cell_type": "code",
   "execution_count": null,
   "metadata": {
    "collapsed": true
   },
   "outputs": [],
   "source": [
    "ypred=lgbm.predict(test[X])\n",
    "k['nLastTradedPrice'] = ypred\n",
    "k.to_csv('2.csv' , index=False)"
   ]
  },
  {
   "cell_type": "code",
   "execution_count": null,
   "metadata": {
    "collapsed": true
   },
   "outputs": [],
   "source": []
  },
  {
   "cell_type": "code",
   "execution_count": 190,
   "metadata": {},
   "outputs": [
    {
     "data": {
      "text/html": [
       "<div>\n",
       "<style>\n",
       "    .dataframe thead tr:only-child th {\n",
       "        text-align: right;\n",
       "    }\n",
       "\n",
       "    .dataframe thead th {\n",
       "        text-align: left;\n",
       "    }\n",
       "\n",
       "    .dataframe tbody tr th {\n",
       "        vertical-align: top;\n",
       "    }\n",
       "</style>\n",
       "<table border=\"1\" class=\"dataframe\">\n",
       "  <thead>\n",
       "    <tr style=\"text-align: right;\">\n",
       "      <th></th>\n",
       "      <th>nSerialNumber</th>\n",
       "      <th>nBestBuyOrderPrice</th>\n",
       "      <th>nBestBuyOrderQuantity</th>\n",
       "      <th>nBestSellOrderPrice</th>\n",
       "      <th>nBestSellOrderQuantity</th>\n",
       "      <th>nLastTradedPrice</th>\n",
       "      <th>nTotalTradedQuantity</th>\n",
       "    </tr>\n",
       "  </thead>\n",
       "  <tbody>\n",
       "    <tr>\n",
       "      <th>nSerialNumber</th>\n",
       "      <td>1.000000</td>\n",
       "      <td>0.007238</td>\n",
       "      <td>-0.040152</td>\n",
       "      <td>-0.013417</td>\n",
       "      <td>-0.066175</td>\n",
       "      <td>0.821622</td>\n",
       "      <td>-0.386450</td>\n",
       "    </tr>\n",
       "    <tr>\n",
       "      <th>nBestBuyOrderPrice</th>\n",
       "      <td>0.007238</td>\n",
       "      <td>1.000000</td>\n",
       "      <td>-0.003092</td>\n",
       "      <td>0.178382</td>\n",
       "      <td>-0.012575</td>\n",
       "      <td>0.767235</td>\n",
       "      <td>-0.030471</td>\n",
       "    </tr>\n",
       "    <tr>\n",
       "      <th>nBestBuyOrderQuantity</th>\n",
       "      <td>-0.040152</td>\n",
       "      <td>-0.003092</td>\n",
       "      <td>1.000000</td>\n",
       "      <td>-0.025623</td>\n",
       "      <td>-0.027651</td>\n",
       "      <td>0.043779</td>\n",
       "      <td>0.083881</td>\n",
       "    </tr>\n",
       "    <tr>\n",
       "      <th>nBestSellOrderPrice</th>\n",
       "      <td>-0.013417</td>\n",
       "      <td>0.178382</td>\n",
       "      <td>-0.025623</td>\n",
       "      <td>1.000000</td>\n",
       "      <td>0.029166</td>\n",
       "      <td>0.999730</td>\n",
       "      <td>0.023564</td>\n",
       "    </tr>\n",
       "    <tr>\n",
       "      <th>nBestSellOrderQuantity</th>\n",
       "      <td>-0.066175</td>\n",
       "      <td>-0.012575</td>\n",
       "      <td>-0.027651</td>\n",
       "      <td>0.029166</td>\n",
       "      <td>1.000000</td>\n",
       "      <td>0.033005</td>\n",
       "      <td>0.088192</td>\n",
       "    </tr>\n",
       "    <tr>\n",
       "      <th>nLastTradedPrice</th>\n",
       "      <td>0.821622</td>\n",
       "      <td>0.767235</td>\n",
       "      <td>0.043779</td>\n",
       "      <td>0.999730</td>\n",
       "      <td>0.033005</td>\n",
       "      <td>1.000000</td>\n",
       "      <td>0.918779</td>\n",
       "    </tr>\n",
       "    <tr>\n",
       "      <th>nTotalTradedQuantity</th>\n",
       "      <td>-0.386450</td>\n",
       "      <td>-0.030471</td>\n",
       "      <td>0.083881</td>\n",
       "      <td>0.023564</td>\n",
       "      <td>0.088192</td>\n",
       "      <td>0.918779</td>\n",
       "      <td>1.000000</td>\n",
       "    </tr>\n",
       "  </tbody>\n",
       "</table>\n",
       "</div>"
      ],
      "text/plain": [
       "                        nSerialNumber  nBestBuyOrderPrice  \\\n",
       "nSerialNumber                1.000000            0.007238   \n",
       "nBestBuyOrderPrice           0.007238            1.000000   \n",
       "nBestBuyOrderQuantity       -0.040152           -0.003092   \n",
       "nBestSellOrderPrice         -0.013417            0.178382   \n",
       "nBestSellOrderQuantity      -0.066175           -0.012575   \n",
       "nLastTradedPrice             0.821622            0.767235   \n",
       "nTotalTradedQuantity        -0.386450           -0.030471   \n",
       "\n",
       "                        nBestBuyOrderQuantity  nBestSellOrderPrice  \\\n",
       "nSerialNumber                       -0.040152            -0.013417   \n",
       "nBestBuyOrderPrice                  -0.003092             0.178382   \n",
       "nBestBuyOrderQuantity                1.000000            -0.025623   \n",
       "nBestSellOrderPrice                 -0.025623             1.000000   \n",
       "nBestSellOrderQuantity              -0.027651             0.029166   \n",
       "nLastTradedPrice                     0.043779             0.999730   \n",
       "nTotalTradedQuantity                 0.083881             0.023564   \n",
       "\n",
       "                        nBestSellOrderQuantity  nLastTradedPrice  \\\n",
       "nSerialNumber                        -0.066175          0.821622   \n",
       "nBestBuyOrderPrice                   -0.012575          0.767235   \n",
       "nBestBuyOrderQuantity                -0.027651          0.043779   \n",
       "nBestSellOrderPrice                   0.029166          0.999730   \n",
       "nBestSellOrderQuantity                1.000000          0.033005   \n",
       "nLastTradedPrice                      0.033005          1.000000   \n",
       "nTotalTradedQuantity                  0.088192          0.918779   \n",
       "\n",
       "                        nTotalTradedQuantity  \n",
       "nSerialNumber                      -0.386450  \n",
       "nBestBuyOrderPrice                 -0.030471  \n",
       "nBestBuyOrderQuantity               0.083881  \n",
       "nBestSellOrderPrice                 0.023564  \n",
       "nBestSellOrderQuantity              0.088192  \n",
       "nLastTradedPrice                    0.918779  \n",
       "nTotalTradedQuantity                1.000000  "
      ]
     },
     "execution_count": 190,
     "metadata": {},
     "output_type": "execute_result"
    }
   ],
   "source": [
    "data.corr()"
   ]
  },
  {
   "cell_type": "code",
   "execution_count": null,
   "metadata": {
    "collapsed": true
   },
   "outputs": [],
   "source": []
  }
 ],
 "metadata": {
  "kernelspec": {
   "display_name": "Python 3",
   "language": "python",
   "name": "python3"
  },
  "language_info": {
   "codemirror_mode": {
    "name": "ipython",
    "version": 3
   },
   "file_extension": ".py",
   "mimetype": "text/x-python",
   "name": "python",
   "nbconvert_exporter": "python",
   "pygments_lexer": "ipython3",
   "version": "3.6.1"
  }
 },
 "nbformat": 4,
 "nbformat_minor": 2
}
